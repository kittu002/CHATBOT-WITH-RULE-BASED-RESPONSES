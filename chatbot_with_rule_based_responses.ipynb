{
  "nbformat": 4,
  "nbformat_minor": 0,
  "metadata": {
    "colab": {
      "provenance": []
    },
    "kernelspec": {
      "name": "python3",
      "display_name": "Python 3"
    },
    "language_info": {
      "name": "python"
    }
  },
  "cells": [
    {
      "cell_type": "code",
      "execution_count": null,
      "metadata": {
        "colab": {
          "base_uri": "https://localhost:8080/"
        },
        "id": "btj7RGc2nlKS",
        "outputId": "8ae4b292-aba6-4d42-a508-e9914333a8ae"
      },
      "outputs": [
        {
          "output_type": "stream",
          "name": "stdout",
          "text": [
            "what is your name ?\n",
            "marie\n",
            "Hi marie, I am bot.will you help me learn about your planet?\n",
            "can you tell about your planet\n",
            "Is there Intelligent life on this planet?yes\n",
            "Please tell me more.\n",
            "later,bye\n",
            "how do you think I feel when i say that.Why?\n",
            "later\n",
            "have a nice day\n"
          ]
        }
      ],
      "source": [
        "import random\n",
        "import re\n",
        "\n",
        "class RuleBot:\n",
        "    ##response\n",
        "    negative_res = (\"no\",\"nope\",\"nah\",\"naw\",\"not a chance\",\"sorry\")\n",
        "    exit_commands = (\"quit\",\"pause\",\"exit\",\"goodbye\",\"bye\",\"later\")\n",
        "\n",
        "\n",
        "    random_question = (\n",
        "        \"why are you here?\",\n",
        "        \"Are there many humans like you?\",\n",
        "        \"what do you consume for sustence?\",\n",
        "        \"Is there Intelligent life on this planet?\",\n",
        "        \"does Earth have a leader ?\"\n",
        "    )\n",
        "\n",
        "    def __init__(self):\n",
        "        self.alienbabble = {\n",
        "            'describe_planet_intent': r'.*\\s*your planet.*',\n",
        "            'answer_why_intent': r'why\\sare.*',\n",
        "            'about_intellipaat': r'.*\\s*intellipaat.*'\n",
        "        }\n",
        "\n",
        "    def greet(self):\n",
        "        self.name = input(\"what is your name ?\\n\")\n",
        "        will_help = input(\n",
        "            f\"Hi {self.name}, I am bot.will you help me learn about your planet?\\n\")\n",
        "        if will_help in self.negative_res:\n",
        "            print(\"have nice earth day!\")\n",
        "            return\n",
        "        self.chat()\n",
        "\n",
        "    def make_exit(self, reply):\n",
        "        for command in self.exit_commands:\n",
        "            if reply == command:\n",
        "                print(\"have a nice day\")\n",
        "                return True\n",
        "\n",
        "    def chat(self):\n",
        "        reply = input(random.choice(self.random_question)).lower()\n",
        "        while not self.make_exit(reply):\n",
        "            reply = input(self.match_reply(reply))\n",
        "\n",
        "\n",
        "    def match_reply(self, reply):\n",
        "        for intent, regex_pattern in self.alienbabble.items():\n",
        "            found_match = re.match(regex_pattern, reply)\n",
        "            if found_match and intent == 'describe_planet_intent':\n",
        "                return self.describe_planet_intent()\n",
        "            elif found_match and intent == 'answer_why_intent':\n",
        "                return self.answer_why_intent()\n",
        "            elif found_match and intent == 'about_intellipaat':\n",
        "                return self.about_intellipaat()\n",
        "\n",
        "        if not found_match:\n",
        "            return self.no_match_intent()\n",
        "    def describe_planet_intent(self):\n",
        "        responses = (\"My planet is a utopia of diverse organism\\n\",\n",
        "                    \"I heard the cofee is goood \\n\")\n",
        "        return random.choice(responses)\n",
        "\n",
        "    def answer_why_intent(self):\n",
        "        responses = (\"I come in peace \\n\",\"I am here to collect data on your planet and its inhabitants\\n\",\n",
        "                      \"I heard the coffe is good \\n\")\n",
        "        return random.choice(responses)\n",
        "\n",
        "    def about_intellipaat(self):\n",
        "        responses = (\"Intelligent is world largest professiona; educational company \\n\", \"Intelligent will make you learn concept in the way never less\\n\",\n",
        "                      \"Intelligent is where your career and skill grows\\n\")\n",
        "        return random.choice(responses)\n",
        "\n",
        "\n",
        "    def no_match_intent(self):\n",
        "        responses = ( \"Please tell me more.\\n\",\"tell me more!\\n\",\"I see.Can you elaborate\\n\",\n",
        "                        \"Interesting.can you tell me more ?\\n\",\"I see.How do you think?\\n\",\"why?\\n\",\n",
        "                         \"how do you think I feel when i say that.Why?\\n\")\n",
        "        return random.choice(responses)\n",
        "\n",
        "bot = RuleBot()\n",
        "bot.greet()"
      ]
    }
  ]
}